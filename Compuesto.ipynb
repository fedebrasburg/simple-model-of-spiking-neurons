{
 "cells": [
  {
   "cell_type": "code",
   "execution_count": 131,
   "metadata": {},
   "outputs": [],
   "source": [
    "import matplotlib.pyplot as plt\n",
    "h = 0.25\n",
    "def nextPoint(v, u, I):\n",
    "    newV = v + h * (0.04*v*v + 5*v + 140 - u + I)\n",
    "    newU = u + h * (a*(b*v - u))\n",
    "    return newV,newU\n",
    "\n",
    "class Neurona:\n",
    "    def __init__(self, a,b,c,d,id):\n",
    "        self.id = id\n",
    "        self.adyacentes = []\n",
    "        self.a = a\n",
    "        self.b = b\n",
    "        self.c = c\n",
    "        self.d = d\n",
    "        self.v = [-65]\n",
    "        self.u = [0]\n",
    "        self.time = [0]\n",
    "        self.I = 0\n",
    "        self.tiempoI = 0\n",
    "        self.adyacentes = []\n",
    "        \n",
    "    def getTime(self): return self.time\n",
    "    def getV(self): return self.v\n",
    "    def getId(self): return self.id\n",
    "    \n",
    "    def addAdyacente(self, a):\n",
    "        self.adyacentes.append(a)\n",
    "    \n",
    "    def spike(self):\n",
    "        self.I = 10\n",
    "        self.tiempoI = 20\n",
    "    \n",
    "    def avanzar(self):\n",
    "        i = len(self.v) - 1\n",
    "        if self.tiempoI == 0 and self.I > 0: \n",
    "            self.I = 0\n",
    "        elif self.tiempoI > 0:\n",
    "            self.tiempoI -= 1\n",
    "        self.time.append(i*h)\n",
    "        newV, newU = nextPoint(self.v[i], self.u[i], self.I)\n",
    "        if newV > 30:\n",
    "            for a in self.adyacentes: a.spike()\n",
    "            self.v.append(self.c)\n",
    "            self.u.append(newU + self.d)\n",
    "        else:\n",
    "            self.v.append(newV)\n",
    "            self.u.append(newU)\n",
    "class Sistema:\n",
    "    def __init__(self, neuronas = []):\n",
    "        self.neuronas = neuronas\n",
    "    \n",
    "    def avanzar(self):\n",
    "        for neurona in self.neuronas:\n",
    "            neurona.avanzar()\n",
    "    \n",
    "    def getNeuronas(self): return self.neuronas"
   ]
  },
  {
   "cell_type": "code",
   "execution_count": 143,
   "metadata": {},
   "outputs": [
    {
     "name": "stdout",
     "output_type": "stream",
     "text": [
      "Conecciones 1963\n"
     ]
    },
    {
     "data": {
      "image/png": "[encoded data removed]",
      "text/plain": [
       "<Figure size 1008x288 with 1 Axes>"
      ]
     },
     "metadata": {
      "needs_background": "light"
     },
     "output_type": "display_data"
    }
   ],
   "source": [
    "import random as r\n",
    "a = 0.02\n",
    "b = 0.2\n",
    "c = -65\n",
    "d = 8\n",
    "neuronas = []\n",
    "cantNeuronas = 50\n",
    "for i in range(cantNeuronas):\n",
    "    neuronas.append(Neurona(a,b,c,d,i))\n",
    "\n",
    "# p de que dos nodos esten conectados \n",
    "p = 0.8\n",
    "conecciones = 0\n",
    "for neurona in neuronas:\n",
    "    for posibleAdyancente in neuronas:\n",
    "        if (posibleAdyancente.getId() != neurona.id and r.random() < p):\n",
    "            neurona.addAdyacente(posibleAdyancente)\n",
    "            conecciones += 1\n",
    "print(\"Conecciones \" + str(conecciones))\n",
    "            \n",
    "sistema = Sistema(neuronas)\n",
    "\n",
    "n = 5000\n",
    "for i in range(n):\n",
    "    sistema.avanzar()\n",
    "neuronas[0].spike()\n",
    "for i in range(n):\n",
    "    sistema.avanzar()\n",
    "    \n",
    "plt.subplots(figsize=(14,4))\n",
    "for neurona in sistema.getNeuronas():\n",
    "    plt.plot(neurona.getTime(), neurona.getV())\n",
    "plt.show()"
   ]
  },
  {
   "cell_type": "code",
   "execution_count": null,
   "metadata": {},
   "outputs": [],
   "source": []
  }
 ],
 "metadata": {
  "kernelspec": {
   "display_name": "Python 3",
   "language": "python",
   "name": "python3"
  },
  "language_info": {
   "codemirror_mode": {
    "name": "ipython",
    "version": 3
   },
   "file_extension": ".py",
   "mimetype": "text/x-python",
   "name": "python",
   "nbconvert_exporter": "python",
   "pygments_lexer": "ipython3",
   "version": "3.7.3"
  }
 },
 "nbformat": 4,
 "nbformat_minor": 2
}
