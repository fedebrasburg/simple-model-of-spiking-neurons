{
 "cells": [
  {
   "cell_type": "markdown",
   "metadata": {},
   "source": [
    "```\n",
    "Ne=800;\n",
    "re=rand(Ne,1);\n",
    "a=[0.02*ones(Ne,1);\n",
    "b=[0.2*ones(Ne,1);\n",
    "c=[-65+15*re.^2;\n",
    "d=[8-6*re.^2;\n",
    "S=[0.5*rand(Ne+Ni,Ne), -rand(Ne+Ni,Ni)];\n",
    "\n",
    "Ni=200;\n",
    "ri=rand(Ni,1);\n",
    "v=-65*ones(Ne+Ni,1);\n",
    "u=b.*v;\n",
    "firings=[];\n",
    "for t=1:1000\n",
    "\n",
    "% Array que tiene los I para TODAs las neuronas\n",
    "I=[5*randn(Ne,1);2*randn(Ni,1)]; % thalamic input \n",
    "\n",
    "% Devuelve un vector con los indices de los valores mayores a 30\n",
    "fired=find(v>=30); % indices of spikes \n",
    "\n",
    "% guardo los disparos\n",
    "firings=[firings; t+0*fired,fired]; \n",
    "\n",
    "% reseteo neuronas\n",
    "v(fired)=c(fired);\n",
    "u(fired)=u(fired)+d(fired); \n",
    "\n",
    "%\n",
    "I=I+sum(S(:,fired),2); \n",
    "\n",
    "% Avanzo un paso\n",
    "v=v+0.5*(0.04*v.^2+5*v+140-u+I); % step 0.5 ms \n",
    "v=v+0.5*(0.04*v.^2+5*v+140-u+I); % for numerical \n",
    "u=u+a.*(b.*v-u); % stability\n",
    "end;\n",
    "plot(firings(:,1),firings(:,2),’.’);\n",
    "```"
   ]
  },
  {
   "cell_type": "code",
   "execution_count": null,
   "metadata": {},
   "outputs": [],
   "source": []
  }
 ],
 "metadata": {
  "kernelspec": {
   "display_name": "Python 3",
   "language": "python",
   "name": "python3"
  },
  "language_info": {
   "codemirror_mode": {
    "name": "ipython",
    "version": 3
   },
   "file_extension": ".py",
   "mimetype": "text/x-python",
   "name": "python",
   "nbconvert_exporter": "python",
   "pygments_lexer": "ipython3",
   "version": "3.7.4"
  }
 },
 "nbformat": 4,
 "nbformat_minor": 2
}
